{
 "cells": [
  {
   "cell_type": "markdown",
   "id": "c64ccc15-a9ea-4209-88c6-cb53227b2303",
   "metadata": {},
   "source": [
    "SERIES PART I EXERCISES"
   ]
  },
  {
   "cell_type": "markdown",
   "id": "9f12d01f-18d8-487e-8ac8-006e3e9208aa",
   "metadata": {},
   "source": [
    "Use pandas to create a Series named fruits from the following list:\n",
    "\n",
    "[\"kiwi\", \"mango\", \"strawberry\", \"pineapple\", \"gala apple\", \"honeycrisp apple\", \"tomato\", \"watermelon\", \"honeydew\", \"kiwi\", \"kiwi\", \"kiwi\", \"mango\", \"blueberry\", \"blackberry\", \"gooseberry\", \"papaya\"]\n",
    "\n",
    "Use Series attributes and methods to explore your fruits Series.\n",
    "\n",
    "Determine the number of elements in fruits.\n",
    "\n",
    "Output only the index from fruits.\n",
    "\n",
    "Output only the values from fruits.\n",
    "\n",
    "Confirm the data type of the values in fruits.\n",
    "\n",
    "Output only the first five values from fruits. Output the last three values. Output two random values from fruits.\n",
    "\n",
    "Run the .describe() on fruits to see what information it returns when called on a Series with string values.\n",
    "\n",
    "Run the code necessary to produce only the unique string values from fruits.\n",
    "\n",
    "Determine how many times each unique string value occurs in fruits.\n",
    "\n",
    "Determine the string value that occurs most frequently in fruits.\n",
    "\n",
    "Determine the string value that occurs least frequently in fruits."
   ]
  },
  {
   "cell_type": "code",
   "execution_count": 1,
   "id": "30d7223c-4744-4c33-ae7c-62b7375ced47",
   "metadata": {},
   "outputs": [],
   "source": [
    "import pandas as pd\n",
    "import numpy as np"
   ]
  },
  {
   "cell_type": "code",
   "execution_count": 3,
   "id": "55cd2526-3252-482e-a85e-5c3d79e3b3a2",
   "metadata": {},
   "outputs": [],
   "source": [
    "fruits_series=pd.Series([\"kiwi\", \"mango\", \"strawberry\", \"pineapple\", \"gala apple\", \"honeycrisp apple\", \"tomato\", \"watermelon\", \"honeydew\", \"kiwi\", \"kiwi\", \"kiwi\", \"mango\", \"blueberry\", \"blackberry\", \"gooseberry\", \"papaya\"])"
   ]
  },
  {
   "cell_type": "code",
   "execution_count": 4,
   "id": "9240d450-a56a-43f7-9582-364cd36dece3",
   "metadata": {},
   "outputs": [
    {
     "data": {
      "text/plain": [
       "0                 kiwi\n",
       "1                mango\n",
       "2           strawberry\n",
       "3            pineapple\n",
       "4           gala apple\n",
       "5     honeycrisp apple\n",
       "6               tomato\n",
       "7           watermelon\n",
       "8             honeydew\n",
       "9                 kiwi\n",
       "10                kiwi\n",
       "11                kiwi\n",
       "12               mango\n",
       "13           blueberry\n",
       "14          blackberry\n",
       "15          gooseberry\n",
       "16              papaya\n",
       "dtype: object"
      ]
     },
     "execution_count": 4,
     "metadata": {},
     "output_type": "execute_result"
    }
   ],
   "source": [
    "fruits_series"
   ]
  },
  {
   "cell_type": "code",
   "execution_count": 7,
   "id": "4c35ca5c-0031-4c9d-b694-3385f9f5a7a6",
   "metadata": {},
   "outputs": [
    {
     "data": {
      "text/plain": [
       "17"
      ]
     },
     "execution_count": 7,
     "metadata": {},
     "output_type": "execute_result"
    }
   ],
   "source": [
    "fruits_series.size"
   ]
  },
  {
   "cell_type": "code",
   "execution_count": 5,
   "id": "1f95adbc-843d-4193-90fe-fd627bd539d0",
   "metadata": {},
   "outputs": [
    {
     "data": {
      "text/plain": [
       "17"
      ]
     },
     "execution_count": 5,
     "metadata": {},
     "output_type": "execute_result"
    }
   ],
   "source": [
    "fruits_series.count()"
   ]
  },
  {
   "cell_type": "code",
   "execution_count": 6,
   "id": "ec1d5e72-f072-48af-a610-19970a74c74a",
   "metadata": {},
   "outputs": [
    {
     "data": {
      "text/plain": [
       "RangeIndex(start=0, stop=17, step=1)"
      ]
     },
     "execution_count": 6,
     "metadata": {},
     "output_type": "execute_result"
    }
   ],
   "source": [
    "fruits_series.index"
   ]
  },
  {
   "cell_type": "code",
   "execution_count": 35,
   "id": "c3934ed0-6f25-431f-91e7-d8760be93787",
   "metadata": {},
   "outputs": [
    {
     "data": {
      "text/plain": [
       "[0, 1, 2, 3, 4, 5, 6, 7, 8, 9, 10, 11, 12, 13, 14, 15, 16]"
      ]
     },
     "execution_count": 35,
     "metadata": {},
     "output_type": "execute_result"
    }
   ],
   "source": [
    "list(fruits_series.index)"
   ]
  },
  {
   "cell_type": "code",
   "execution_count": 8,
   "id": "fbe831f4-1cd1-42bd-bb50-041d4d1f3e35",
   "metadata": {},
   "outputs": [
    {
     "data": {
      "text/plain": [
       "array(['kiwi', 'mango', 'strawberry', 'pineapple', 'gala apple',\n",
       "       'honeycrisp apple', 'tomato', 'watermelon', 'honeydew', 'kiwi',\n",
       "       'kiwi', 'kiwi', 'mango', 'blueberry', 'blackberry', 'gooseberry',\n",
       "       'papaya'], dtype=object)"
      ]
     },
     "execution_count": 8,
     "metadata": {},
     "output_type": "execute_result"
    }
   ],
   "source": [
    "fruits_series.values"
   ]
  },
  {
   "cell_type": "code",
   "execution_count": 10,
   "id": "bcf877ae-42a6-4491-9f17-b9ad2be82b11",
   "metadata": {},
   "outputs": [
    {
     "data": {
      "text/plain": [
       "numpy.ndarray"
      ]
     },
     "execution_count": 10,
     "metadata": {},
     "output_type": "execute_result"
    }
   ],
   "source": [
    "type(fruits_series.values)"
   ]
  },
  {
   "cell_type": "code",
   "execution_count": 33,
   "id": "1d441deb-6efe-4c7b-8a4c-241c576b2bd4",
   "metadata": {},
   "outputs": [
    {
     "data": {
      "text/plain": [
       "dtype('O')"
      ]
     },
     "execution_count": 33,
     "metadata": {},
     "output_type": "execute_result"
    }
   ],
   "source": [
    "fruits_series.dtype"
   ]
  },
  {
   "cell_type": "code",
   "execution_count": 34,
   "id": "4a97705a-42fd-445a-9c72-e20f89ad61bd",
   "metadata": {},
   "outputs": [
    {
     "data": {
      "text/plain": [
       "17"
      ]
     },
     "execution_count": 34,
     "metadata": {},
     "output_type": "execute_result"
    }
   ],
   "source": [
    "fruits_series.size"
   ]
  },
  {
   "cell_type": "code",
   "execution_count": 8,
   "id": "c3cd98d8-e1b7-40c5-99ea-9592dd3398db",
   "metadata": {},
   "outputs": [
    {
     "data": {
      "text/plain": [
       "<bound method NDFrame.describe of 0                 kiwi\n",
       "1                mango\n",
       "2           strawberry\n",
       "3            pineapple\n",
       "4           gala apple\n",
       "5     honeycrisp apple\n",
       "6               tomato\n",
       "7           watermelon\n",
       "8             honeydew\n",
       "9                 kiwi\n",
       "10                kiwi\n",
       "11                kiwi\n",
       "12               mango\n",
       "13           blueberry\n",
       "14          blackberry\n",
       "15          gooseberry\n",
       "16              papaya\n",
       "dtype: object>"
      ]
     },
     "execution_count": 8,
     "metadata": {},
     "output_type": "execute_result"
    }
   ],
   "source": [
    "fruits_series.describe"
   ]
  },
  {
   "cell_type": "code",
   "execution_count": 10,
   "id": "2d1c40d9-1161-4348-8659-1ace1e4af4af",
   "metadata": {},
   "outputs": [
    {
     "data": {
      "text/plain": [
       "0          kiwi\n",
       "1         mango\n",
       "2    strawberry\n",
       "3     pineapple\n",
       "4    gala apple\n",
       "dtype: object"
      ]
     },
     "execution_count": 10,
     "metadata": {},
     "output_type": "execute_result"
    }
   ],
   "source": [
    "fruits_series.head(5)"
   ]
  },
  {
   "cell_type": "code",
   "execution_count": 12,
   "id": "3c389292-24ca-479a-af08-a7fae2d70faa",
   "metadata": {},
   "outputs": [
    {
     "data": {
      "text/plain": [
       "14    blackberry\n",
       "15    gooseberry\n",
       "16        papaya\n",
       "dtype: object"
      ]
     },
     "execution_count": 12,
     "metadata": {},
     "output_type": "execute_result"
    }
   ],
   "source": [
    "fruits_series.tail(3)"
   ]
  },
  {
   "cell_type": "code",
   "execution_count": 15,
   "id": "8474a2ef-d803-4784-bdda-c4ea182ab29b",
   "metadata": {},
   "outputs": [
    {
     "data": {
      "text/plain": [
       "7     watermelon\n",
       "12         mango\n",
       "dtype: object"
      ]
     },
     "execution_count": 15,
     "metadata": {},
     "output_type": "execute_result"
    }
   ],
   "source": [
    "fruits_series.sample(2)"
   ]
  },
  {
   "cell_type": "code",
   "execution_count": 11,
   "id": "1b6d6bd0-779e-4512-b16b-dee17ca053d5",
   "metadata": {},
   "outputs": [
    {
     "data": {
      "text/plain": [
       "count       17\n",
       "unique      13\n",
       "top       kiwi\n",
       "freq         4\n",
       "dtype: object"
      ]
     },
     "execution_count": 11,
     "metadata": {},
     "output_type": "execute_result"
    }
   ],
   "source": [
    "fruits_series.describe()"
   ]
  },
  {
   "cell_type": "code",
   "execution_count": 13,
   "id": "83b96767-529d-4c8b-be4a-153fa9ea81f5",
   "metadata": {},
   "outputs": [
    {
     "data": {
      "text/plain": [
       "{'blackberry',\n",
       " 'blueberry',\n",
       " 'gala apple',\n",
       " 'gooseberry',\n",
       " 'honeycrisp apple',\n",
       " 'honeydew',\n",
       " 'kiwi',\n",
       " 'mango',\n",
       " 'papaya',\n",
       " 'pineapple',\n",
       " 'strawberry',\n",
       " 'tomato',\n",
       " 'watermelon'}"
      ]
     },
     "execution_count": 13,
     "metadata": {},
     "output_type": "execute_result"
    }
   ],
   "source": [
    "set(fruits_series)"
   ]
  },
  {
   "cell_type": "code",
   "execution_count": 17,
   "id": "2fc58017-77fe-4814-8aa1-bdb140fd380b",
   "metadata": {},
   "outputs": [
    {
     "data": {
      "text/plain": [
       "kiwi                4\n",
       "mango               2\n",
       "strawberry          1\n",
       "pineapple           1\n",
       "gala apple          1\n",
       "honeycrisp apple    1\n",
       "tomato              1\n",
       "watermelon          1\n",
       "honeydew            1\n",
       "blueberry           1\n",
       "blackberry          1\n",
       "gooseberry          1\n",
       "papaya              1\n",
       "dtype: int64"
      ]
     },
     "execution_count": 17,
     "metadata": {},
     "output_type": "execute_result"
    }
   ],
   "source": [
    "fruits_series.value_counts()"
   ]
  },
  {
   "cell_type": "code",
   "execution_count": 14,
   "id": "83722977-95c5-412d-a583-d94c5a0071a8",
   "metadata": {},
   "outputs": [
    {
     "data": {
      "text/plain": [
       "array(['kiwi', 'mango', 'strawberry', 'pineapple', 'gala apple',\n",
       "       'honeycrisp apple', 'tomato', 'watermelon', 'honeydew',\n",
       "       'blueberry', 'blackberry', 'gooseberry', 'papaya'], dtype=object)"
      ]
     },
     "execution_count": 14,
     "metadata": {},
     "output_type": "execute_result"
    }
   ],
   "source": [
    "fruits_series.unique()"
   ]
  },
  {
   "cell_type": "code",
   "execution_count": 30,
   "id": "2307e6f0-71d6-4860-9338-21aa83481991",
   "metadata": {},
   "outputs": [
    {
     "data": {
      "text/plain": [
       "0                 kiwi\n",
       "1                mango\n",
       "2           strawberry\n",
       "3            pineapple\n",
       "4           gala apple\n",
       "5     honeycrisp apple\n",
       "6               tomato\n",
       "7           watermelon\n",
       "8             honeydew\n",
       "13           blueberry\n",
       "14          blackberry\n",
       "15          gooseberry\n",
       "16              papaya\n",
       "dtype: object"
      ]
     },
     "execution_count": 30,
     "metadata": {},
     "output_type": "execute_result"
    }
   ],
   "source": [
    "fruits_series.drop_duplicates()"
   ]
  },
  {
   "cell_type": "code",
   "execution_count": 23,
   "id": "79ae7d72-f498-45c0-82c8-fa3702321619",
   "metadata": {},
   "outputs": [],
   "source": [
    "a=fruits_series.value_counts()"
   ]
  },
  {
   "cell_type": "code",
   "execution_count": 32,
   "id": "89becb01-40d2-4ea7-bdb0-1dfb6be558a7",
   "metadata": {},
   "outputs": [
    {
     "data": {
      "text/plain": [
       "4"
      ]
     },
     "execution_count": 32,
     "metadata": {},
     "output_type": "execute_result"
    }
   ],
   "source": [
    "max(a)"
   ]
  },
  {
   "cell_type": "code",
   "execution_count": 31,
   "id": "f0504702-51d5-4aa8-a4ee-937c87808d41",
   "metadata": {},
   "outputs": [
    {
     "data": {
      "text/plain": [
       "1"
      ]
     },
     "execution_count": 31,
     "metadata": {},
     "output_type": "execute_result"
    }
   ],
   "source": [
    "min(a)"
   ]
  },
  {
   "cell_type": "code",
   "execution_count": 21,
   "id": "8fa01733-f710-4538-92c8-55db9cc57fcb",
   "metadata": {},
   "outputs": [
    {
     "data": {
      "text/plain": [
       "kiwi    4\n",
       "dtype: int64"
      ]
     },
     "execution_count": 21,
     "metadata": {},
     "output_type": "execute_result"
    }
   ],
   "source": [
    "fruits_series.value_counts().head(1)"
   ]
  },
  {
   "cell_type": "code",
   "execution_count": 25,
   "id": "8f060fbb-843f-4381-bedd-f1daa9a6dd14",
   "metadata": {},
   "outputs": [
    {
     "data": {
      "text/plain": [
       "strawberry          1\n",
       "pineapple           1\n",
       "gala apple          1\n",
       "honeycrisp apple    1\n",
       "tomato              1\n",
       "watermelon          1\n",
       "honeydew            1\n",
       "blueberry           1\n",
       "blackberry          1\n",
       "gooseberry          1\n",
       "papaya              1\n",
       "dtype: int64"
      ]
     },
     "execution_count": 25,
     "metadata": {},
     "output_type": "execute_result"
    }
   ],
   "source": [
    "fruits_series.value_counts().nsmallest(keep='all')"
   ]
  },
  {
   "cell_type": "code",
   "execution_count": null,
   "id": "a1e01c61-84af-4932-89ef-4c67ca27802e",
   "metadata": {},
   "outputs": [],
   "source": []
  },
  {
   "cell_type": "code",
   "execution_count": null,
   "id": "81c376da-a67a-4c8e-ab8d-573607489430",
   "metadata": {},
   "outputs": [],
   "source": []
  }
 ],
 "metadata": {
  "kernelspec": {
   "display_name": "Python 3 (ipykernel)",
   "language": "python",
   "name": "python3"
  },
  "language_info": {
   "codemirror_mode": {
    "name": "ipython",
    "version": 3
   },
   "file_extension": ".py",
   "mimetype": "text/x-python",
   "name": "python",
   "nbconvert_exporter": "python",
   "pygments_lexer": "ipython3",
   "version": "3.9.13"
  }
 },
 "nbformat": 4,
 "nbformat_minor": 5
}
